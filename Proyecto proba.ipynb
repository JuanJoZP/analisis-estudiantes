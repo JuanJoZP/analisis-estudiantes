{
 "cells": [
  {
   "cell_type": "code",
   "execution_count": null,
   "metadata": {},
   "outputs": [],
   "source": [
    "DESCRIPCION DEL PROYECTO\n",
    "\n",
    "En Bogotá, uno de los más grandes problemas urbanos es el tráfico y cuando las rutas troncales de transmilenio no están \n",
    "brindando servicio, una de las unicas alternativas para quienes no tienen carro o no pueden usarlo por alguna razón es el SITP.\n",
    "Unas de las rutas más afectadas por el trafico en la ciudad son la autopista norte y la Avenida Boyacá, por lo cual las personas\n",
    "que van hacia el norte tienen problemas con llegar a sus destinos a tiempo, teniendo esto en cuenta, decidimos analizar el \n",
    "problema de una persona que hipoteticamente quisiera llegar desde la estacion de universidades en el centro de la ciudad, \n",
    "hasta el barrio la colina en el norte. De aqui podemos analizar la diferencia de precios debido a algun trasbordo, la \n",
    "diferencia de tiempo entre cada ruta y la diferencia de tiempo dependiendo de la hora y el dia en el que la persona empiece el \n",
    "viaje, y analizando todos estos datos concluir cual ruta puede ser la más efectiva dependiendo de todos estos factores\n"
   ]
  }
 ],
 "metadata": {
  "kernelspec": {
   "display_name": "Python 3 (ipykernel)",
   "language": "python",
   "name": "python3"
  },
  "language_info": {
   "codemirror_mode": {
    "name": "ipython",
    "version": 3
   },
   "file_extension": ".py",
   "mimetype": "text/x-python",
   "name": "python",
   "nbconvert_exporter": "python",
   "pygments_lexer": "ipython3",
   "version": "3.9.12"
  }
 },
 "nbformat": 4,
 "nbformat_minor": 4
}
