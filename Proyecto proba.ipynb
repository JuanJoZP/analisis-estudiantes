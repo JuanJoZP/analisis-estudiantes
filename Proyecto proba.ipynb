{
 "cells": [
  {
   "cell_type": "markdown",
   "metadata": {},
   "source": [
    "\n",
    "\n",
    "\n",
    "\n",
    "**poner la base de datos** y explicar que son los archivos y cuales son los que se van a usar, mirar si la base de datos ya trae diccionario de variables y si no toca hacerlo (va anexo, no en el documento)\n",
    "\n",
    "\n",
    "\n",
    "---\n",
    "\n",
    "Decir todas las restricciones de las cosas que no vamos a tener en cuenta de los datos, por ejemplo que solo va a ser de lunes a viernes de las semanas tales de febrero, que no se tuvieron en cuenta las rutas que tal...\n",
    "\n",
    "\n",
    "\n",
    "---\n",
    "\n",
    "\n",
    "\n",
    "empezar a poner por subtitulos las cosas que se van analizar una por una y la grafica (hasta ahora llevamos estas no en este orden:\n",
    "\n",
    "- correlacion entre avenida o calle que coge la ruta y la demora\n",
    "\n",
    "- correlacion entre hora de salida y demora\n",
    "\n",
    "- correlacion entre semana de la ruta y demora\n",
    "\n",
    "- regresiones lineales de las anteriores\n",
    "\n",
    "- algo de la media y varianza de la demora con cuartiles outliers etc\n",
    "\n",
    "- depronto graficos de violin que comparen entre rutas, y segun como varien la hora, la semana etc pongan la distribucion\n",
    ")\n",
    "\n",
    "\n",
    "\n"
   ]
  },
  {
   "cell_type": "markdown",
   "metadata": {},
   "source": [
    "DESCRIPCION DEL PROYECTO\n",
    "\n",
    "En Bogotá, uno de los más grandes problemas urbanos es el tráfico y cuando las rutas troncales de transmilenio no están \n",
    "brindando servicio, una de las unicas alternativas para quienes no tienen carro o no pueden usarlo por alguna razón es el SITP.\n",
    "Unas de las rutas más afectadas por el trafico en la ciudad son la autopista norte y la Avenida Boyacá, por lo cual las personas\n",
    "que van hacia el norte tienen problemas con llegar a sus destinos a tiempo, teniendo esto en cuenta, decidimos analizar el \n",
    "problema de una persona que hipoteticamente quisiera llegar desde la estacion de universidades en el centro de la ciudad, \n",
    "hasta el barrio la colina en el norte. De aqui podemos analizar la diferencia de precios debido a algun trasbordo, la \n",
    "diferencia de tiempo entre cada ruta y la diferencia de tiempo dependiendo de la hora y el dia en el que la persona empiece el \n",
    "viaje, y analizando todos estos datos concluir cual ruta puede ser la más efectiva dependiendo de todos estos factores"
   ]
  },
  {
   "cell_type": "markdown",
   "metadata": {},
   "source": [
    "RUTAS A ANALIZAR\n",
    "\n",
    "RUTA 1\n",
    "Subir al SITP 359 que toma la carrera septima hasta la calle 64, bajarse y tomar el bus C103 que llega hasta la calle 152 con carrera 58c, llegando así al destino\n",
    "\n",
    "RUTA 2\n",
    "Subir al bus 385 que llega hasta la calle 72 con carrera 70, bajarse y tomar el bus E16A que lo lleva hasta la avenida Boyacá con calle 152b llegando así a su destino\n",
    "\n",
    "RUTA 3\n",
    "Subir al bus 385, bajarse en la calle 72 con carrera 70 y tomar el bus B902 que lo lleva hasta la avenida Boyacá con calle 152b llegando así a su destino\n",
    "\n",
    "RUTA 4\n",
    "Subir al bus 385, bajarse en la calle 72 con carrera 70 y tomar el bus B401 que lo lleva hasta la avenida Boyacá con calle 152b llegando así a su destino\n",
    "\n",
    "Estas rutas se escogieron debido a que son las más optimas según la aplicación moovit, que es la aaplicacion que ofrece las rutas posibles para llegar de algún lugar a otro usando el transporte publico de Bogotá"
   ]
  },
  {
   "cell_type": "markdown",
   "metadata": {},
   "source": [
    "BASE DE DATOS"
   ]
  },
  {
   "cell_type": "markdown",
   "metadata": {},
   "source": [
    "DICCIONARIO DE VARIABLES"
   ]
  },
  {
   "cell_type": "markdown",
   "metadata": {},
   "source": [
    "CORRELACION ENTRE EL CAMINO DE UNA RUTA Y EL TIEMPO TOMADO"
   ]
  },
  {
   "cell_type": "markdown",
   "metadata": {},
   "source": [
    "CORRELACION ENTRE HORA DE SALIDA Y EL TIEMPO TOMADO"
   ]
  },
  {
   "cell_type": "markdown",
   "metadata": {},
   "source": [
    "CORRELACION ENTRE SEMANA Y EL TIEMPO TOMADO"
   ]
  },
  {
   "cell_type": "markdown",
   "metadata": {},
   "source": [
    "REGRESIONES LINEALES"
   ]
  },
  {
   "cell_type": "markdown",
   "metadata": {},
   "source": [
    "GRÁFICOS\n"
   ]
  }
 ],
 "metadata": {
  "kernelspec": {
   "display_name": "Python 3 (ipykernel)",
   "language": "python",
   "name": "python3"
  },
  "language_info": {
   "codemirror_mode": {
    "name": "ipython",
    "version": 3
   },
   "file_extension": ".py",
   "mimetype": "text/x-python",
   "name": "python",
   "nbconvert_exporter": "python",
   "pygments_lexer": "ipython3",
   "version": "3.9.12"
  }
 },
 "nbformat": 4,
 "nbformat_minor": 4
}
