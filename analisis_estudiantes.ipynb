{
  "cells": [
    {
      "attachments": {},
      "cell_type": "markdown",
      "metadata": {
        "id": "wWso6iW0Lblb"
      },
      "source": [
        "<table>\n",
        "    <tr>\n",
        "        <td><img src=\"./Macc.png\" width=\"auto\"/></td>\n",
        "        <td>\n",
        "            <table><tr>\n",
        "            <h1 style=\"color:red;text-align:center\">Probabilidad y estadística</h1></td>\n",
        "            </tr></table>   \n",
        "        <td>&nbsp;</td>\n",
        "        <td>\n",
        "            <table><tr>\n",
        "            <tp><p style=\"font-size:150%;text-align:center\">Proyecto</p></tp>\n",
        "            <tp><p style=\"font-size:100%;text-align:center\">Análisis estudiantes --Entrega Final</p></tp>\n",
        "            </tr></table>\n",
        "        </td>\n",
        "    </tr>\n",
        "</table>\n",
        "\n",
        "---"
      ]
    },
    {
      "attachments": {},
      "cell_type": "markdown",
      "metadata": {},
      "source": [
        "**<h1 style=\"text-align:center\">Análisis estadístico del rendimiento académico de los estudiantes</h1>**\n",
        "<br/>\n"
      ]
    },
    {
      "attachments": {},
      "cell_type": "markdown",
      "metadata": {},
      "source": [
        "### **Introducción, contexto y problemas <a class=\"anchor\" id=\"forms\"></a>**\n",
        "\n",
        "El bajo rendimiento académico de los estudiantes de colegio es un problema que se compone de muchos factores, a pesar de que se pueda pensar que un niño es poco inteligente o muy inteligente dependiendo de sus notas, estas revelan realidades mucho mas allá del simple entendimiento de un estudiante en una materia.\n",
        "En nuestro proyecto, decidimos analizar una base de datos de dos escuelas de brasil que contiene la informacion de los estudiantes que ven dos materias distintas, portugues y matemáticas, los datos incluyen, no solo las notas divididas por periodo sino tambien, el genero del estudiante, la edad, tamaño de la familia, nivel de educacion y trabajo de madre y padre, tiempo de estudio, razon de escoger su colegio, tutorias extras, relación con la familia, tiempo libre, salud, y muchos factores más.\n",
        "Usando estos datos, vamos a analizar cuales son los mas relevantes en el desempeño estudiantil de un joven, y cuales tienen más probabilidad de afectar sustancialmente en los resultados, analizaremos tambien cuales de estos datos tienen alguna correlación entre ellos y como afecta a la conclusion de las notas el ver estos datos como conjunto."
      ]
    },
    {
      "attachments": {},
      "cell_type": "markdown",
      "metadata": {},
      "source": [
        "### **Secciones <a class=\"anchor\" id=\"inicio\"></a>**\n",
        "\n",
        "1. [Conjunto de datos y diccionario de variables](#2)\n",
        "2. [Visualización y analisis descriptivo](#3)\n",
        "3. [Estimaciones puntuales y por intervalos](#4)\n",
        "4. [Pruebas de hipótesis sobre parámetros](#5)\n",
        "5. [Regresión lineal](#6)\n",
        "6. [Pruebas de hipótesis sobre bondad de ajuste](#7)\n",
        "7. [(Depronto no va)Análisis descriptivo bivariado, verificacion de supuestos y analisis de coeficientes](#8)\n",
        "8. [Resumen ejecutivo](#9)"
      ]
    },
    {
      "attachments": {},
      "cell_type": "markdown",
      "metadata": {},
      "source": [
        "### **Conjunto de datos y diccionario de variables <a class=\"anchor\" id=\"forms\"></a>**\n",
        "\n",
        "\n",
        "Los datos relacionados con el problema y sus analisis fueron extraidos del siguiente repositorio:\n",
        "<a href=\"https://doi.org/10.24432/C5TG7T\" class=\"anchor\" id=\"forms\">UCI Machine Learning Repository</a>.\n",
        "\n",
        "Este repositorio de datos aborda el rendimiento de algunos estudiantes de educación secundaria de dos escuelas portuguesas. Tiene 32 atributos, entre estos estan las notas, factores demograficos, sociales y relacionados con la escuela. Fue recolectada usando reportes de la propia escuela y cuestionarios. Incluye dos conjuntos de datos, uno para el rendimiento en el área de matematicas y otro para el rendimiento en el área de lenguaje.\n",
        "\n",
        "<a class=\"anchor\">Diccionario de variables:</a>"
      ]
    },
    {
      "cell_type": "code",
      "execution_count": null,
      "metadata": {
        "id": "chFHZjXjOsLt"
      },
      "outputs": [],
      "source": [
        "import pandas as pd                 # Procesamiento de datos, CVS I/O"
      ]
    },
    {
      "cell_type": "code",
      "execution_count": null,
      "metadata": {
        "id": "5_jUMIwoKkHe"
      },
      "outputs": [],
      "source": [
        "st_mat = pd.read_csv('./student/student-mat.csv', sep=';') # Conjunto de datos de las notas de matemáticas\n",
        "st_por = pd.read_csv('./student/student-mat.csv', sep=';') # Conjunto de datos de las notas de lenguaje"
      ]
    },
    {
      "cell_type": "code",
      "execution_count": null,
      "metadata": {},
      "outputs": [],
      "source": [
        "st_mat.keys() # lista de todos los atributos"
      ]
    },
    {
      "cell_type": "code",
      "execution_count": null,
      "metadata": {},
      "outputs": [],
      "source": [
        "st_mat.head() # Ejemplo de los registros"
      ]
    },
    {
      "attachments": {},
      "cell_type": "markdown",
      "metadata": {},
      "source": [
        "### **Visualización y analisis descriptivo <a class=\"anchor\" id=\"3\"></a>**\n",
        "<tp><p style=\"font-size:100%;text-align:center\">A continuación tenemos una sección donde se analizaran ciertos factores, con respecto a las notas y su promedio.\n",
        "Para la visualización de estas gráficas usamos una libreria de python llamda Seaborn la cual está basada en Matplotlib, y se integra con las estructuras de Pandas</p></tp>\n",
        "\n"
      ]
    },
    {
      "attachments": {},
      "cell_type": "markdown",
      "metadata": {},
      "source": [
        "En el siguiente bloque, graficaremos un histograma el cual nos muestra el promedio de los estudiantes en ambas materias, los ejes funcionan de la siguiente manera.                                                             \n",
        "**X**: Muestra el rango de notas posibles.                                                                           \n",
        "**Y**: Muestra la cantidad de estudiantes que recaen en las notas del eje x."
      ]
    },
    {
      "cell_type": "code",
      "execution_count": null,
      "metadata": {},
      "outputs": [],
      "source": [
        "%matplotlib inline\n",
        "import matplotlib.pyplot as plt\n",
        "import seaborn\n",
        "import numpy as np\n",
        "\n",
        "print(\"Notas promedio de matemáticas\")\n",
        "seaborn.histplot((st_mat.G1+st_mat.G2+st_mat.G3)/3)\n",
        "plt.show()\n",
        "\n",
        "print(\"Notas promedio de lenguaje\")\n",
        "seaborn.histplot((st_por.G1+st_por.G2+st_por.G3)/3)\n",
        "plt.show()"
      ]
    },
    {
      "attachments": {},
      "cell_type": "markdown",
      "metadata": {},
      "source": [
        "A continuación por medio de una tabla, se mostrarán La media, Desviación estandar, cantidad de datos, el mínimo y máximo dato, esto por cada factor que analiza el rendimiento de los estudiantes, junto con dos columnas añadidas, que serían La aprobación de la materia y el promedio general de esta materia.\n",
        "Tenga en cuenta que este análisis únicamente se hace con la clase de matemáticas."
      ]
    },
    {
      "cell_type": "code",
      "execution_count": null,
      "metadata": {},
      "outputs": [],
      "source": [
        "st_mat[\"promedio\"] = (st_mat.G1+st_mat.G2+st_mat.G3)/3\n",
        "st_mat[\"aprobado\"] = np.where(st_mat.promedio >= 10, 1, 0)\n",
        "st_mat.describe()"
      ]
    },
    {
      "attachments": {},
      "cell_type": "markdown",
      "metadata": {},
      "source": [
        "(no se si hacer aca todos los histogramas de todas las variables o al menos las importantes)\n",
        "(depronto tambien otro tipo de graficos)"
      ]
    },
    {
      "attachments": {},
      "cell_type": "markdown",
      "metadata": {},
      "source": [
        "(depronto algo sobre curtosis y simetria)"
      ]
    },
    {
      "attachments": {},
      "cell_type": "markdown",
      "metadata": {},
      "source": [
        "(Aca hacer el histograma que habia dicho juanes comparando con subpoblacion.\n",
        "luego se dice que se encuentra una diferencia y entonces por eso se va a hacer la estimacion de la proporcion muestral)"
      ]
    },
    {
      "attachments": {},
      "cell_type": "markdown",
      "metadata": {},
      "source": [
        "### **Estimaciones puntuales y por intervalos <a class=\"anchor\" id=\"4\"></a>**\n",
        "\n",
        "\n",
        "\n"
      ]
    },
    {
      "attachments": {},
      "cell_type": "markdown",
      "metadata": {},
      "source": [
        "A continuación realizaremos una serie de estimaciones, evaluadas en una distribución binomial, donde compararemos $X_i:$ cantidad de estudiantes que aprobaron la materia dado que un evento $_i$ ocurra. Por lo que "
      ]
    },
    {
      "attachments": {},
      "cell_type": "markdown",
      "metadata": {},
      "source": [
        "### **Pruebas de hipótesis sobre parámetros <a class=\"anchor\" id=\"5\"></a>**\n",
        "\n",
        "\n"
      ]
    },
    {
      "attachments": {},
      "cell_type": "markdown",
      "metadata": {},
      "source": [
        "(h1 matematicas mas dificl de pasar que por)"
      ]
    },
    {
      "attachments": {},
      "cell_type": "markdown",
      "metadata": {},
      "source": [
        "(h2 diferencia de media de nota entre varias subpoblaciones para decir si cierta variable afecta la nota)"
      ]
    },
    {
      "attachments": {},
      "cell_type": "markdown",
      "metadata": {},
      "source": [
        "### **Regresión lineal <a class=\"anchor\" id=\"6\"></a>**\n",
        "\n"
      ]
    },
    {
      "attachments": {},
      "cell_type": "markdown",
      "metadata": {},
      "source": [
        "### **Pruebas de hipótesis sobre bondad de ajuste <a class=\"anchor\" id=\"7\"></a>**\n",
        "\n",
        "\n"
      ]
    },
    {
      "attachments": {},
      "cell_type": "markdown",
      "metadata": {},
      "source": [
        "### **()Análisis descriptivo bivariado, verificacion de supuestos y analisis de coeficientes <a class=\"anchor\" id=\"8\"></a>**\n"
      ]
    },
    {
      "attachments": {},
      "cell_type": "markdown",
      "metadata": {},
      "source": [
        "### **Resumen ejecutivo <a class=\"anchor\" id=\"9\"></a>**\n",
        "\n",
        "\n"
      ]
    },
    {
      "cell_type": "code",
      "execution_count": null,
      "metadata": {},
      "outputs": [],
      "source": []
    }
  ],
  "metadata": {
    "colab": {
      "provenance": []
    },
    "kernelspec": {
      "display_name": "Python 3",
      "name": "python3"
    },
    "language_info": {
      "codemirror_mode": {
        "name": "ipython",
        "version": 3
      },
      "file_extension": ".py",
      "mimetype": "text/x-python",
      "name": "python",
      "nbconvert_exporter": "python",
      "pygments_lexer": "ipython3",
      "version": "3.7.3"
    }
  },
  "nbformat": 4,
  "nbformat_minor": 0
}
