{
  "cells": [
    {
      "attachments": {},
      "cell_type": "markdown",
      "metadata": {
        "id": "wWso6iW0Lblb"
      },
      "source": [
        "<table>\n",
        "    <tr>\n",
        "        <td><img src=\"./Macc.png\" width=\"auto\"/></td>\n",
        "        <td>\n",
        "            <table><tr>\n",
        "            <h1 style=\"color:red;text-align:center\">Probabilidad y estadística</h1></td>\n",
        "            </tr></table>   \n",
        "        <td>&nbsp;</td>\n",
        "        <td>\n",
        "            <table><tr>\n",
        "            <tp><p style=\"font-size:150%;text-align:center\">Proyecto</p></tp>\n",
        "            <tp><p style=\"font-size:100%;text-align:center\">Análisis estudiantes --Entrega Final</p></tp>\n",
        "            </tr></table>\n",
        "        </td>\n",
        "    </tr>\n",
        "</table>\n",
        "\n",
        "---"
      ]
    },
    {
      "attachments": {},
      "cell_type": "markdown",
      "metadata": {},
      "source": [
        "**<h1 style=\"text-align:center\">Análisis estadístico del rendimiento académico de los estudiantes</h1>**\n",
        "<br/>\n"
      ]
    },
    {
      "attachments": {},
      "cell_type": "markdown",
      "metadata": {},
      "source": [
        "### **Introducción, contexto y problemas <a class=\"anchor\" id=\"forms\"></a>**\n",
        "\n",
        "El bajo rendimiento académico de los estudiantes de colegio es un problema que se compone de muchos factores, a pesar de que se pueda pensar que un niño es poco inteligente o muy inteligente dependiendo de sus notas, estas revelan realidades mucho mas allá del simple entendimiento de un estudiante en una materia.\n",
        "En nuestro proyecto, decidimos analizar una base de datos de dos escuelas de brasil que contiene la informacion de los estudiantes que ven dos materias distintas, portugues y matemáticas, los datos incluyen, no solo las notas divididas por periodo sino tambien, el genero del estudiante, la edad, tamaño de la familia, nivel de educacion y trabajo de madre y padre, tiempo de estudio, razon de escoger su colegio, tutorias extras, relación con la familia, tiempo libre, salud, y muchos factores más.\n",
        "Usando estos datos, vamos a analizar cuales son los mas relevantes en el desempeño estudiantil de un joven, y cuales tienen más probabilidad de afectar sustancialmente en los resultados, analizaremos tambien cuales de estos datos tienen alguna correlación entre ellos y como afecta a la conclusion de las notas el ver estos datos como conjunto."
      ]
    },
    {
      "attachments": {},
      "cell_type": "markdown",
      "metadata": {},
      "source": [
        "### **Secciones <a class=\"anchor\" id=\"inicio\"></a>**\n",
        "\n",
        "1. [Conjunto de datos y diccionario de variables](#2)\n",
        "2. [Visualización y analisis descriptivo](#3)\n",
        "3. [Estimaciones puntuales y por intervalos](#4)\n",
        "4. [Pruebas de hipótesis sobre parámetros](#5)\n",
        "5. [Regresión lineal](#6)\n",
        "6. [Pruebas de hipótesis sobre bondad de ajuste](#7)\n",
        "7. [(Depronto no va)Análisis descriptivo bivariado, verificacion de supuestos y analisis de coeficientes](#8)\n",
        "8. [Resumen ejecutivo](#9)"
      ]
    },
    {
      "attachments": {},
      "cell_type": "markdown",
      "metadata": {},
      "source": [
        "### **Conjunto de datos y diccionario de variables <a class=\"anchor\" id=\"forms\"></a>**\n",
        "\n",
        "\n",
        "Los datos relacionados con el problema y sus analisis fueron extraidos del siguiente repositorio:\n",
        "<a href=\"https://doi.org/10.24432/C5TG7T\" class=\"anchor\" id=\"forms\">UCI Machine Learning Repository</a>.\n",
        "\n",
        "Este repositorio de datos aborda el rendimiento de algunos estudiantes de educación secundaria de dos escuelas portuguesas. Tiene 32 atributos, entre estos estan las notas, factores demograficos, sociales y relacionados con la escuela. Fue recolectada usando reportes de la propia escuela y cuestionarios. Incluye dos conjuntos de datos, uno para las notas de matematicas y otro para las notas de lenguaje.\n",
        "\n",
        "<a class=\"anchor\">Diccionario de variables:</a>"
      ]
    },
    {
      "cell_type": "code",
      "execution_count": 73,
      "metadata": {
        "id": "chFHZjXjOsLt"
      },
      "outputs": [],
      "source": [
        "import pandas as pd                 # Procesamiento de datos, CVS I/O"
      ]
    },
    {
      "cell_type": "code",
      "execution_count": null,
      "metadata": {
        "id": "5_jUMIwoKkHe"
      },
      "outputs": [],
      "source": [
        "st_mat = pd.read_csv('./student/student-mat.csv', sep=';') # Conjunto de datos de las notas de matemáticas\n",
        "st_por = pd.read_csv('./student/student-mat.csv', sep=';') # Conjunto de datos de las notas de lenguaje"
      ]
    },
    {
      "cell_type": "code",
      "execution_count": null,
      "metadata": {},
      "outputs": [],
      "source": [
        "st_mat.keys() # lista de todos los atributos"
      ]
    },
    {
      "cell_type": "code",
      "execution_count": null,
      "metadata": {},
      "outputs": [],
      "source": [
        "st_mat.head() # Ejemplo de los registros"
      ]
    },
    {
      "attachments": {},
      "cell_type": "markdown",
      "metadata": {},
      "source": [
        "### **Visualización y analisis descriptivo <a class=\"anchor\" id=\"3\"></a>**\n",
        "<tp><p style=\"font-size:100%;text-align:center\">Proyecto</p></tp>\n",
        "\n"
      ]
    },
    {
      "attachments": {},
      "cell_type": "markdown",
      "metadata": {},
      "source": [
        "A través del siguiente bloque, mostraremos por medio de la libreria seaborn, un análisis por medio de un histograma, donde se analizaran las notas en promedio del curso de **Matemáticas**."
      ]
    },
    {
      "cell_type": "code",
      "execution_count": null,
      "metadata": {},
      "outputs": [],
      "source": [
        "%matplotlib inline\n",
        "import matplotlib.pyplot as plt\n",
        "import seaborn\n",
        "\n",
        "print(\"Notas promedio de matemáticas\")\n",
        "hist_matematicas_1 = seaborn.histplot((st_mat.G1+st_mat.G2+st_mat.G3)/3)\n",
        "plt.show()\n",
        "\n",
        "print(\"Notas promedio de lenguaje\")\n",
        "hist_lenguaje_1 = seaborn.histplot((st_por.G1+st_por.G2+st_por.G3)/3)\n",
        "plt.show()"
      ]
    },
    {
      "cell_type": "code",
      "execution_count": null,
      "metadata": {},
      "outputs": [],
      "source": [
        "st_mat.describe()"
      ]
    },
    {
      "cell_type": "code",
      "execution_count": null,
      "metadata": {},
      "outputs": [],
      "source": [
        "st_mat = pd.melt(st_mat, id_vars='diagnosis', var_name='features', value_name='value')"
      ]
    },
    {
      "attachments": {},
      "cell_type": "markdown",
      "metadata": {},
      "source": [
        "### **Estimaciones puntuales y por intervalos <a class=\"anchor\" id=\"4\"></a>**\n",
        "\n",
        "\n",
        "\n"
      ]
    },
    {
      "attachments": {},
      "cell_type": "markdown",
      "metadata": {},
      "source": [
        "### **Pruebas de hipótesis sobre parámetros <a class=\"anchor\" id=\"5\"></a>**\n",
        "\n",
        "\n"
      ]
    },
    {
      "attachments": {},
      "cell_type": "markdown",
      "metadata": {},
      "source": [
        "### **Regresión lineal <a class=\"anchor\" id=\"6\"></a>**\n",
        "\n"
      ]
    },
    {
      "attachments": {},
      "cell_type": "markdown",
      "metadata": {},
      "source": [
        "### **Pruebas de hipótesis sobre bondad de ajuste <a class=\"anchor\" id=\"7\"></a>**\n",
        "\n",
        "\n"
      ]
    },
    {
      "attachments": {},
      "cell_type": "markdown",
      "metadata": {},
      "source": [
        "### **()Análisis descriptivo bivariado, verificacion de supuestos y analisis de coeficientes <a class=\"anchor\" id=\"8\"></a>**\n"
      ]
    },
    {
      "attachments": {},
      "cell_type": "markdown",
      "metadata": {},
      "source": [
        "### **Resumen ejecutivo <a class=\"anchor\" id=\"9\"></a>**\n",
        "\n",
        "\n"
      ]
    },
    {
      "cell_type": "code",
      "execution_count": null,
      "metadata": {},
      "outputs": [],
      "source": []
    }
  ],
  "metadata": {
    "colab": {
      "provenance": []
    },
    "kernelspec": {
      "display_name": "Python 3",
      "name": "python3"
    },
    "language_info": {
      "codemirror_mode": {
        "name": "ipython",
        "version": 3
      },
      "file_extension": ".py",
      "mimetype": "text/x-python",
      "name": "python",
      "nbconvert_exporter": "python",
      "pygments_lexer": "ipython3",
      "version": "3.9.1"
    }
  },
  "nbformat": 4,
  "nbformat_minor": 0
}
